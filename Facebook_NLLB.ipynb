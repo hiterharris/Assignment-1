{
  "metadata": {
    "kernelspec": {
      "language": "python",
      "display_name": "Python 3",
      "name": "python3"
    },
    "language_info": {
      "pygments_lexer": "ipython3",
      "nbconvert_exporter": "python",
      "version": "3.6.4",
      "file_extension": ".py",
      "codemirror_mode": {
        "name": "ipython",
        "version": 3
      },
      "name": "python",
      "mimetype": "text/x-python"
    },
    "colab": {
      "name": "Facebook NLLB ",
      "provenance": [],
      "include_colab_link": true
    }
  },
  "nbformat_minor": 0,
  "nbformat": 4,
  "cells": [
    {
      "cell_type": "markdown",
      "metadata": {
        "id": "view-in-github",
        "colab_type": "text"
      },
      "source": [
        "<a href=\"https://colab.research.google.com/github/hiterharris/Assignment-1/blob/master/Facebook_NLLB.ipynb\" target=\"_parent\"><img src=\"https://colab.research.google.com/assets/colab-badge.svg\" alt=\"Open In Colab\"/></a>"
      ]
    },
    {
      "cell_type": "code",
      "source": [
        "# This Python 3 environment comes with many helpful analytics libraries installed\n",
        "# It is defined by the kaggle/python Docker image: https://github.com/kaggle/docker-python\n",
        "# For example, here's several helpful packages to load\n",
        "\n",
        "import numpy as np # linear algebra\n",
        "import pandas as pd # data processing, CSV file I/O (e.g. pd.read_csv)\n",
        "\n",
        "# Input data files are available in the read-only \"../input/\" directory\n",
        "# For example, running this (by clicking run or pressing Shift+Enter) will list all files under the input directory\n",
        "\n",
        "import os\n",
        "for dirname, _, filenames in os.walk('/kaggle/input'):\n",
        "    for filename in filenames:\n",
        "        print(os.path.join(dirname, filename))\n",
        "\n",
        "# You can write up to 20GB to the current directory (/kaggle/working/) that gets preserved as output when you create a version using \"Save & Run All\"\n",
        "# You can also write temporary files to /kaggle/temp/, but they won't be saved outside of the current session"
      ],
      "metadata": {
        "_uuid": "8f2839f25d086af736a60e9eeb907d3b93b6e0e5",
        "_cell_guid": "b1076dfc-b9ad-4769-8c92-a6c4dae69d19",
        "execution": {
          "iopub.status.busy": "2023-10-29T18:45:17.315888Z",
          "iopub.execute_input": "2023-10-29T18:45:17.317085Z",
          "iopub.status.idle": "2023-10-29T18:45:17.710241Z",
          "shell.execute_reply.started": "2023-10-29T18:45:17.317043Z",
          "shell.execute_reply": "2023-10-29T18:45:17.709263Z"
        },
        "trusted": true,
        "id": "cgTFObpFoKoU"
      },
      "execution_count": null,
      "outputs": []
    },
    {
      "cell_type": "code",
      "source": [
        "!pip install transformers"
      ],
      "metadata": {
        "execution": {
          "iopub.status.busy": "2023-10-29T18:45:55.097527Z",
          "iopub.execute_input": "2023-10-29T18:45:55.098134Z",
          "iopub.status.idle": "2023-10-29T18:46:08.015623Z",
          "shell.execute_reply.started": "2023-10-29T18:45:55.098086Z",
          "shell.execute_reply": "2023-10-29T18:46:08.014548Z"
        },
        "trusted": true,
        "id": "v86x7ZYGoKoV"
      },
      "execution_count": null,
      "outputs": []
    },
    {
      "cell_type": "code",
      "source": [
        "from transformers import AutoTokenizer, AutoModelForSeq2SeqLM, pipeline\n"
      ],
      "metadata": {
        "execution": {
          "iopub.status.busy": "2023-10-29T18:46:21.621274Z",
          "iopub.execute_input": "2023-10-29T18:46:21.621705Z",
          "iopub.status.idle": "2023-10-29T18:46:37.826147Z",
          "shell.execute_reply.started": "2023-10-29T18:46:21.621662Z",
          "shell.execute_reply": "2023-10-29T18:46:37.824989Z"
        },
        "trusted": true,
        "id": "AeDBU9qGoKoW"
      },
      "execution_count": null,
      "outputs": []
    },
    {
      "cell_type": "code",
      "source": [
        "####### NLLB 1.3 billion attributes\n",
        "model = AutoModelForSeq2SeqLM.from_pretrained(\"facebook/nllb-200-3.3B\")"
      ],
      "metadata": {
        "execution": {
          "iopub.status.busy": "2023-10-29T18:52:01.486606Z",
          "iopub.execute_input": "2023-10-29T18:52:01.487055Z",
          "iopub.status.idle": "2023-10-29T19:09:20.550542Z",
          "shell.execute_reply.started": "2023-10-29T18:52:01.487018Z",
          "shell.execute_reply": "2023-10-29T19:09:20.548999Z"
        },
        "trusted": true,
        "id": "1csV9rphoKoW"
      },
      "execution_count": null,
      "outputs": []
    },
    {
      "cell_type": "code",
      "source": [
        "tokenizer = AutoTokenizer.from_pretrained(\"facebook/nllb-200-3.3B\")"
      ],
      "metadata": {
        "execution": {
          "iopub.status.busy": "2023-10-29T19:09:20.553213Z",
          "iopub.execute_input": "2023-10-29T19:09:20.553569Z",
          "iopub.status.idle": "2023-10-29T19:09:28.854616Z",
          "shell.execute_reply.started": "2023-10-29T19:09:20.553541Z",
          "shell.execute_reply": "2023-10-29T19:09:28.853762Z"
        },
        "trusted": true,
        "id": "mdImsrjIoKoW"
      },
      "execution_count": null,
      "outputs": []
    },
    {
      "cell_type": "code",
      "source": [
        "translator = pipeline('translation', model=model, tokenizer=tokenizer, src_lang=\"san_Deva\", tgt_lang='hin_Deva', max_length = 40)"
      ],
      "metadata": {
        "execution": {
          "iopub.status.busy": "2023-10-29T19:09:28.857735Z",
          "iopub.execute_input": "2023-10-29T19:09:28.858083Z",
          "iopub.status.idle": "2023-10-29T19:09:29.330149Z",
          "shell.execute_reply.started": "2023-10-29T19:09:28.858053Z",
          "shell.execute_reply": "2023-10-29T19:09:29.329133Z"
        },
        "trusted": true,
        "id": "_ReRpcQkoKoW"
      },
      "execution_count": null,
      "outputs": []
    },
    {
      "cell_type": "code",
      "source": [
        "translator(\"स्वभावो नोपदेशेन शक्यते कर्तुमन्यथा!सुतप्तमपि पानीयं पुनर्गच्छति शीतताम् !!\")"
      ],
      "metadata": {
        "execution": {
          "iopub.status.busy": "2023-10-29T19:10:57.823253Z",
          "iopub.execute_input": "2023-10-29T19:10:57.82405Z",
          "iopub.status.idle": "2023-10-29T19:11:13.643006Z",
          "shell.execute_reply.started": "2023-10-29T19:10:57.823996Z",
          "shell.execute_reply": "2023-10-29T19:11:13.641685Z"
        },
        "trusted": true,
        "id": "GMQgCk02oKoW"
      },
      "execution_count": null,
      "outputs": []
    },
    {
      "cell_type": "code",
      "source": [
        "translator(\"स्वभावो नोपदेशेन शक्यते कर्तुमन्यथा!सुतप्तमपि पानीयं पुनर्गच्छति शीतताम् !!\")"
      ],
      "metadata": {
        "execution": {
          "iopub.status.busy": "2023-10-29T18:50:12.628352Z",
          "iopub.execute_input": "2023-10-29T18:50:12.628777Z",
          "iopub.status.idle": "2023-10-29T18:50:17.629318Z",
          "shell.execute_reply.started": "2023-10-29T18:50:12.628743Z",
          "shell.execute_reply": "2023-10-29T18:50:17.628183Z"
        },
        "trusted": true,
        "id": "rbjl-D7noKoW"
      },
      "execution_count": null,
      "outputs": []
    },
    {
      "cell_type": "markdown",
      "source": [],
      "metadata": {
        "id": "x7GPERR1oKoW"
      }
    }
  ]
}